{
 "cells": [
  {
   "cell_type": "markdown",
   "id": "62be0ab5",
   "metadata": {},
   "source": [
    "<h1>My Jupyter Notebook on IBM Watson Studio</h1>"
   ]
  },
  {
   "cell_type": "markdown",
   "id": "bca9d512",
   "metadata": {},
   "source": [
    "<b>Amandeep</b><br/>\n",
    "Data Scientist"
   ]
  },
  {
   "cell_type": "markdown",
   "id": "56831cce",
   "metadata": {},
   "source": [
    "<i>I like to play with data. I want to find hidden pattern or knowledge about data.</i>"
   ]
  },
  {
   "cell_type": "markdown",
   "id": "11286505",
   "metadata": {},
   "source": [
    "<h3>Next line will add two nos</h3>"
   ]
  },
  {
   "cell_type": "code",
   "execution_count": 2,
   "id": "3fa73727",
   "metadata": {},
   "outputs": [
    {
     "data": {
      "text/plain": [
       "2"
      ]
     },
     "execution_count": 2,
     "metadata": {},
     "output_type": "execute_result"
    }
   ],
   "source": [
    "1+1"
   ]
  },
  {
   "cell_type": "markdown",
   "id": "f00a856d",
   "metadata": {},
   "source": [
    "<hr>\n",
    "<ol>\n",
    "    <li>1</li>\n",
    "    <li>2</li>\n",
    "</ol>\n",
    "<ul>\n",
    "    <li>1</li>\n",
    "    <li>2</li>\n",
    "</ul>\n",
    "    "
   ]
  },
  {
   "cell_type": "code",
   "execution_count": null,
   "id": "cd2b1843",
   "metadata": {},
   "outputs": [],
   "source": []
  }
 ],
 "metadata": {
  "kernelspec": {
   "display_name": "Python 3",
   "language": "python",
   "name": "python3"
  },
  "language_info": {
   "codemirror_mode": {
    "name": "ipython",
    "version": 3
   },
   "file_extension": ".py",
   "mimetype": "text/x-python",
   "name": "python",
   "nbconvert_exporter": "python",
   "pygments_lexer": "ipython3",
   "version": "3.8.8"
  }
 },
 "nbformat": 4,
 "nbformat_minor": 5
}
